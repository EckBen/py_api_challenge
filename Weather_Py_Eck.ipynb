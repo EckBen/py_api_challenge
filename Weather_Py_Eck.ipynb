{
 "cells": [
  {
   "cell_type": "code",
   "execution_count": null,
   "metadata": {},
   "outputs": [],
   "source": [
    "# PLEASE REMEMBER TO ADD YOUR API_KEY TO THE CONFIG FILE BEFORE RUNNING ANYTHING"
   ]
  },
  {
   "cell_type": "code",
   "execution_count": null,
   "metadata": {},
   "outputs": [],
   "source": [
    "# Import dependencies and set up matplotlib backend\n",
    "%matplotlib notebook\n",
    "import pandas as pd\n",
    "import numpy as np\n",
    "import matplotlib.pyplot as plt\n",
    "import requests\n",
    "import json\n",
    "import time\n",
    "import os\n",
    "import datetime\n",
    "from citipy import citipy\n",
    "from config import api_key"
   ]
  },
  {
   "cell_type": "code",
   "execution_count": null,
   "metadata": {},
   "outputs": [],
   "source": [
    "# Generate random lists of numbers to be used for latitude and longitude\n",
    "# Make sure to sample from entire range\n",
    "lat_lngs = []\n",
    "cities = []\n",
    "\n",
    "lats = np.random.uniform(low=-90.000, high=90.000, size=1500)\n",
    "lngs = np.random.uniform(low=-180.000, high=180.000, size=1500)\n",
    "lat_lngs = zip(lats, lngs)\n",
    "\n",
    "# Identify nearest city for each lat, lng combination\n",
    "for lat_lng in lat_lngs:\n",
    "    city = citipy.nearest_city(lat_lng[0], lat_lng[1]).city_name\n",
    "    \n",
    "    # If the city is unique, then add it to a our cities list\n",
    "    if city not in cities:\n",
    "        cities.append(city)\n",
    "\n",
    "# Print the city count to confirm sufficient count\n",
    "len(cities)"
   ]
  },
  {
   "cell_type": "code",
   "execution_count": null,
   "metadata": {},
   "outputs": [],
   "source": [
    "# Make API call to OpenWeatherMap to get weather info for each city\n",
    "  # Print city number and name to show what is being processed\n",
    "  # Store info in list\n",
    "\n",
    "# Set up counter and list\n",
    "citynum = 1\n",
    "weatherlist = []\n",
    "\n",
    "for city in cities:\n",
    "    time.sleep(1.1)\n",
    "    print(f'Processing city #{citynum}: {city}')\n",
    "    url = f'http://api.openweathermap.org/data/2.5/weather?units=Imperial&q={city}&APPID={api_key}'\n",
    "    print(url)\n",
    "    citynum += 1\n",
    "    \n",
    "    try:\n",
    "        response = requests.get(url).json()\n",
    "        weatherlist.append({\n",
    "            'City Name':response['name'],\n",
    "            'Country':response['sys']['country'],\n",
    "            'Latitude':response['coord']['lat'],\n",
    "            'Longitude':response['coord']['lon'],\n",
    "            'Maximum Temperature(F)':response['main']['temp_max'],\n",
    "            'Humidity(%)':response['main']['humidity'],\n",
    "            'Cloudiness(%)':response['clouds']['all'],\n",
    "            'Wind Speed(MPH)':response['wind']['speed'],\n",
    "            'Date':response['dt']\n",
    "        })\n",
    "        \n",
    "    except:\n",
    "        print('City not found, skipping...')"
   ]
  },
  {
   "cell_type": "code",
   "execution_count": null,
   "metadata": {},
   "outputs": [],
   "source": [
    "# Verify that there are at least 500 cities\n",
    "print(len(weatherlist))"
   ]
  },
  {
   "cell_type": "code",
   "execution_count": null,
   "metadata": {},
   "outputs": [],
   "source": [
    "# Convert data to pandas dataframe and organize columns\n",
    "weather_df = pd.DataFrame(weatherlist)\n",
    "weather_df = weather_df[['City Name','Country','Date','Latitude','Longitude','Maximum Temperature(F)','Humidity(%)','Cloudiness(%)','Wind Speed(MPH)']]\n",
    "weather_df.head()"
   ]
  },
  {
   "cell_type": "code",
   "execution_count": null,
   "metadata": {},
   "outputs": [],
   "source": [
    "# Create output folder and save copy of dataframe as a csv\n",
    "create = os.path.join('Output')\n",
    "if not os.path.exists(create):    \n",
    "    os.makedirs(create)\n",
    "outputpath = os.path.join('Output','weather_data.csv')\n",
    "weather_df.to_csv(outputpath)"
   ]
  },
  {
   "cell_type": "code",
   "execution_count": null,
   "metadata": {},
   "outputs": [],
   "source": [
    "# Convert unix epoch time to date time object for use in charts\n",
    "dt = datetime.datetime.fromtimestamp(weather_df['Date'][0]).strftime('%Y-%m-%d')\n",
    "dt"
   ]
  },
  {
   "cell_type": "code",
   "execution_count": null,
   "metadata": {},
   "outputs": [],
   "source": [
    "# Generate scatter plot for Temperature v Lat\n",
    "fig = plt.figure(figsize=(10,10))\n",
    "xmin, xmax = xlim = -90, 90\n",
    "ymin, ymax = ylim = -50, 110\n",
    "ax = fig.add_subplot(111, xlim=xlim, ylim=ylim, autoscale_on=False)\n",
    "ax.scatter(weather_df['Latitude'],\n",
    "           weather_df['Maximum Temperature(F)'],\n",
    "           facecolors='white',\n",
    "           edgecolors='black',\n",
    "           linewidth='0.5',\n",
    "           alpha=1.0,\n",
    "           s=15,\n",
    "           marker='o')\n",
    "ax.grid(color='silver',\n",
    "        alpha=0.5)\n",
    "ax.set_xticks(ticks=np.arange(-90,100,20))\n",
    "ax.vlines(0,ymin, ymax,\n",
    "          colors='red',\n",
    "          alpha=0.5)\n",
    "ax.annotate(s='Equator',\n",
    "            xy =(-5,25),\n",
    "            color='silver',\n",
    "            rotation=90)\n",
    "ax.set_ylabel('Maximum Temperature (F)')\n",
    "ax.set_xlabel('Latitude')\n",
    "ax.set_title(f'''Maximum Temperature(F) of Cities\n",
    "Vs.\n",
    "Latitudinal Position ({dt})'''.format())\n",
    "# Change background to color gradient to show temperature more visually\n",
    "X = [[-1, -1], [1, 1]]\n",
    "ax.imshow(X, interpolation='bicubic',\n",
    "          cmap=plt.cm.plasma_r,\n",
    "          extent=(xmin, xmax, ymin, ymax),\n",
    "          alpha=1)\n",
    "fig.show()"
   ]
  },
  {
   "cell_type": "code",
   "execution_count": null,
   "metadata": {},
   "outputs": [],
   "source": [
    "# Save .png of scatter plot\n",
    "save_fig = os.path.join('Output',f'TempVsLat{dt}.png')\n",
    "plt.savefig(save_fig)"
   ]
  },
  {
   "cell_type": "code",
   "execution_count": null,
   "metadata": {
    "scrolled": true
   },
   "outputs": [],
   "source": [
    "# Generate scatter plot for Humidity(%) v lat\n",
    "fig = plt.figure(figsize=(10,10))\n",
    "xmin, xmax = xlim = -90, 90\n",
    "ymin, ymax = ylim = -2, 102\n",
    "ax = fig.add_subplot(111, xlim=xlim, ylim=ylim, autoscale_on=False)\n",
    "ax.scatter(weather_df['Latitude'],\n",
    "           weather_df['Humidity(%)'],\n",
    "           facecolors='white',\n",
    "           edgecolors='black',\n",
    "           linewidth='0.5',\n",
    "           alpha=1.0,\n",
    "           s=15,\n",
    "           marker='o')\n",
    "ax.grid(color='silver',\n",
    "        alpha=0.5)\n",
    "ax.set_xticks(ticks=np.arange(-90,100,20))\n",
    "ax.vlines(0,ymin, ymax,\n",
    "          colors='red',\n",
    "          alpha=0.5)\n",
    "ax.annotate(s='Equator',\n",
    "            xy =(-5,25),\n",
    "            color='silver',\n",
    "            rotation=90)\n",
    "ax.set_ylabel('Humidity(%)')\n",
    "ax.set_xlabel('Latitude')\n",
    "ax.set_title(f'''Humidity(%) of Cities\n",
    "Vs.\n",
    "Latitudinal Position ({dt})'''.format())\n",
    "# Change background to color gradient to show temperature more visually\n",
    "X = [[-1, -1], [1, 1]]\n",
    "ax.imshow(X, interpolation='bicubic',\n",
    "          cmap=plt.cm.binary,\n",
    "          extent=(xmin, xmax, -80, ymax),\n",
    "          alpha=1)\n",
    "fig.show()"
   ]
  },
  {
   "cell_type": "code",
   "execution_count": null,
   "metadata": {},
   "outputs": [],
   "source": [
    "# Save .png of scatter plot\n",
    "save_fig = os.path.join('Output',f'HumidityVsLat{dt}.png')\n",
    "plt.savefig(save_fig)"
   ]
  },
  {
   "cell_type": "code",
   "execution_count": null,
   "metadata": {},
   "outputs": [],
   "source": [
    "# Generate scatter plot for Cloudiness(%) v lat\n",
    "fig = plt.figure(figsize=(10,10))\n",
    "xmin, xmax = xlim = -90, 90\n",
    "ymin, ymax = ylim = -2, 102\n",
    "ax = fig.add_subplot(111, xlim=xlim, ylim=ylim, autoscale_on=False)\n",
    "ax.scatter(weather_df['Latitude'],\n",
    "           weather_df['Cloudiness(%)'],\n",
    "           facecolors='white',\n",
    "           edgecolors='black',\n",
    "           linewidth='0.5',\n",
    "           alpha=1.0,\n",
    "           s=15,\n",
    "           marker='o')\n",
    "ax.grid(color='silver',\n",
    "        alpha=0.5)\n",
    "ax.set_xticks(ticks=np.arange(-90,100,20))\n",
    "ax.vlines(0,ymin, ymax,\n",
    "          colors='red',\n",
    "          alpha=0.5)\n",
    "ax.annotate(s='Equator',\n",
    "            xy =(-5,25),\n",
    "            color='silver',\n",
    "            rotation=90)\n",
    "ax.set_ylabel('Cloudiness')\n",
    "ax.set_xlabel('Latitude')\n",
    "ax.set_title(f'''Cloudiness(%) of Cities\n",
    "Vs.\n",
    "Latitudinal Position ({dt})'''.format())\n",
    "# Change background to color gradient to show temperature more visually\n",
    "X = [[-1, -1], [1, 1]]\n",
    "ax.imshow(X, interpolation='bicubic',\n",
    "          cmap=plt.cm.Blues,\n",
    "          extent=(xmin, xmax, -40, ymax),\n",
    "          alpha=1)\n",
    "fig.show()"
   ]
  },
  {
   "cell_type": "code",
   "execution_count": null,
   "metadata": {},
   "outputs": [],
   "source": [
    "# Save .png of scatter plot\n",
    "save_fig = os.path.join('Output',f'CloudinessVsLat{dt}.png')\n",
    "plt.savefig(save_fig)"
   ]
  },
  {
   "cell_type": "code",
   "execution_count": null,
   "metadata": {},
   "outputs": [],
   "source": [
    "# Generate scatter plot for Wind Speed(MPH) v lat\n",
    "fig = plt.figure(figsize=(10,10))\n",
    "xmin, xmax = xlim = -90, 90\n",
    "ymin, ymax = ylim = 0, weather_df['Wind Speed(MPH)'].max() + 2\n",
    "ax = fig.add_subplot(111, xlim=xlim, ylim=ylim, autoscale_on=False)\n",
    "ax.scatter(weather_df['Latitude'],\n",
    "           weather_df['Wind Speed(MPH)'],\n",
    "           facecolors='white',\n",
    "           edgecolors='black',\n",
    "           linewidth='0.5',\n",
    "           alpha=1.0,\n",
    "           s=15,\n",
    "           marker='o')\n",
    "ax.grid(color='silver',\n",
    "        alpha=0.5)\n",
    "ax.set_xticks(ticks=np.arange(-90,100,20))\n",
    "ax.vlines(0,ymin, ymax,\n",
    "          colors='red',\n",
    "          alpha=0.5)\n",
    "ax.annotate(s='Equator',\n",
    "            xy =(-5,25),\n",
    "            color='silver',\n",
    "            rotation=90)\n",
    "ax.set_ylabel('Wind Speed(MPH)')\n",
    "ax.set_xlabel('Latitude')\n",
    "ax.set_title(f'''Wind Speed(MPH) of Cities\n",
    "Vs.\n",
    "Latitudinal Position ({dt})'''.format())\n",
    "# Change background to color gradient to show temperature more visually\n",
    "X = [[-1, -1], [1, 1]]\n",
    "ax.imshow(X, interpolation='bicubic',\n",
    "          cmap=plt.cm.Reds_r,\n",
    "          extent=(xmin, xmax, ymin, (ymax + 0.7 * ymax)),\n",
    "          alpha=1)\n",
    "fig.show()"
   ]
  },
  {
   "cell_type": "code",
   "execution_count": null,
   "metadata": {},
   "outputs": [],
   "source": [
    "# Save .png of scatter plot\n",
    "save_fig = os.path.join('Output',f'WindSpeedVsLat{dt}.png')\n",
    "plt.savefig(save_fig)"
   ]
  }
 ],
 "metadata": {
  "kernelspec": {
   "display_name": "Python (PythonData)",
   "language": "python",
   "name": "pythondata"
  },
  "language_info": {
   "codemirror_mode": {
    "name": "ipython",
    "version": 3
   },
   "file_extension": ".py",
   "mimetype": "text/x-python",
   "name": "python",
   "nbconvert_exporter": "python",
   "pygments_lexer": "ipython3",
   "version": "3.7.1"
  }
 },
 "nbformat": 4,
 "nbformat_minor": 2
}
